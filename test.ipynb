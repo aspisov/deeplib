{
 "cells": [
  {
   "cell_type": "code",
   "execution_count": 1,
   "metadata": {},
   "outputs": [],
   "source": [
    "import numpy as np\n",
    "from autograd import Tensor\n",
    "import torch"
   ]
  },
  {
   "cell_type": "code",
   "execution_count": 2,
   "metadata": {},
   "outputs": [
    {
     "data": {
      "text/plain": [
       "tensor([[2., 0., 0., 0.],\n",
       "        [0., 2., 0., 0.],\n",
       "        [0., 0., 2., 0.],\n",
       "        [0., 0., 0., 2.]], dtype=float32, requires_grad=True)"
      ]
     },
     "execution_count": 2,
     "metadata": {},
     "output_type": "execute_result"
    }
   ],
   "source": [
    "X = Tensor(np.arange(1, 17).reshape(4, 4), name=\"X\")\n",
    "W = Tensor(np.eye(X.shape[0]) * 2, name=\"W1\", requires_grad=True)\n",
    "b = Tensor(np.arange(X.shape[0]), name=\"b1\", requires_grad=True)\n",
    "\n",
    "out = ((W @ X + b)**2).sum()\n",
    "out.backward()\n",
    "\n",
    "out.draw_computation_graph()\n",
    "W"
   ]
  },
  {
   "cell_type": "code",
   "execution_count": 3,
   "metadata": {},
   "outputs": [
    {
     "data": {
      "text/plain": [
       "(tensor(6936., grad_fn=<SumBackward0>),\n",
       " None,\n",
       " tensor([[ 160.,  368.,  576.,  784.],\n",
       "         [ 320.,  784., 1248., 1712.],\n",
       "         [ 480., 1200., 1920., 2640.],\n",
       "         [ 640., 1616., 2592., 3568.]]),\n",
       " tensor([112., 136., 160., 184.]))"
      ]
     },
     "execution_count": 3,
     "metadata": {},
     "output_type": "execute_result"
    }
   ],
   "source": [
    "X = torch.tensor(X.data)\n",
    "W = torch.tensor(W.data, requires_grad=True)\n",
    "b = torch.tensor(b.data, requires_grad=True)\n",
    "\n",
    "out = torch.sum((W @ X + b)**2)\n",
    "out.backward()\n",
    "out, X.grad, W.grad, b.grad"
   ]
  },
  {
   "cell_type": "code",
   "execution_count": 4,
   "metadata": {},
   "outputs": [
    {
     "data": {
      "text/plain": [
       "tensor([[2., 0., 0., 0.],\n",
       "        [0., 2., 0., 0.],\n",
       "        [0., 0., 2., 0.],\n",
       "        [0., 0., 0., 2.]], requires_grad=True)"
      ]
     },
     "execution_count": 4,
     "metadata": {},
     "output_type": "execute_result"
    }
   ],
   "source": [
    "W"
   ]
  },
  {
   "cell_type": "code",
   "execution_count": null,
   "metadata": {},
   "outputs": [],
   "source": []
  }
 ],
 "metadata": {
  "kernelspec": {
   "display_name": "base",
   "language": "python",
   "name": "python3"
  },
  "language_info": {
   "codemirror_mode": {
    "name": "ipython",
    "version": 3
   },
   "file_extension": ".py",
   "mimetype": "text/x-python",
   "name": "python",
   "nbconvert_exporter": "python",
   "pygments_lexer": "ipython3",
   "version": "3.11.5"
  }
 },
 "nbformat": 4,
 "nbformat_minor": 2
}
