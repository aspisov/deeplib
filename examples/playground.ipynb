{
 "cells": [
  {
   "cell_type": "code",
   "execution_count": 1,
   "metadata": {},
   "outputs": [],
   "source": [
    "import deeplib \n",
    "import deeplib.nn as nn\n",
    "import deeplib.nn.functional as F\n",
    "import numpy as np"
   ]
  },
  {
   "cell_type": "code",
   "execution_count": 2,
   "metadata": {},
   "outputs": [
    {
     "name": "stdout",
     "output_type": "stream",
     "text": [
      "Loss: 2.2989563941955566\n",
      "Gradients: [[ 0.05275564 -0.28496781  0.0688754   0.02776146  0.13557531]\n",
      " [-0.32332346  0.13636298  0.00453032  0.09084071  0.09158946]\n",
      " [ 0.16783794  0.03419956  0.02449172  0.02946501 -0.25599423]]\n",
      "Loss: 2.2955172061920166\n"
     ]
    }
   ],
   "source": [
    "logits = deeplib.Tensor(np.random.randn(3, 5), requires_grad=True)\n",
    "targets = deeplib.Tensor([1, 0, 4])\n",
    "\n",
    "loss = F.cross_entropy_loss(logits, targets)\n",
    "loss.backward()\n",
    "\n",
    "print(f\"Loss: {loss.data}\")\n",
    "print(f\"Gradients: {logits.grad}\")\n",
    "\n",
    "logits -= 0.01 * logits.grad\n",
    "loss = F.cross_entropy_loss(logits, targets)\n",
    "\n",
    "print(f\"Loss: {loss.data}\")"
   ]
  },
  {
   "cell_type": "code",
   "execution_count": null,
   "metadata": {},
   "outputs": [],
   "source": []
  }
 ],
 "metadata": {
  "kernelspec": {
   "display_name": "base",
   "language": "python",
   "name": "python3"
  },
  "language_info": {
   "codemirror_mode": {
    "name": "ipython",
    "version": 3
   },
   "file_extension": ".py",
   "mimetype": "text/x-python",
   "name": "python",
   "nbconvert_exporter": "python",
   "pygments_lexer": "ipython3",
   "version": "3.11.5"
  }
 },
 "nbformat": 4,
 "nbformat_minor": 2
}
