{
 "cells": [
  {
   "cell_type": "code",
   "execution_count": 12,
   "metadata": {},
   "outputs": [
    {
     "name": "stdout",
     "output_type": "stream",
     "text": [
      "Iteration 0, Loss: 1.989463210105896\n",
      "Iteration 10, Loss: 1.1964654922485352\n",
      "Iteration 20, Loss: 0.8332884907722473\n",
      "Iteration 30, Loss: 0.71629798412323\n",
      "Iteration 40, Loss: 0.6221996545791626\n",
      "Iteration 50, Loss: 0.6002935171127319\n",
      "Iteration 60, Loss: 0.6015099287033081\n",
      "Iteration 70, Loss: 0.5710020661354065\n",
      "Iteration 80, Loss: 0.5609615445137024\n",
      "Iteration 90, Loss: 0.5521669983863831\n"
     ]
    }
   ],
   "source": [
    "import torch\n",
    "import torch.nn as nn\n",
    "from sklearn.datasets import load_wine\n",
    "\n",
    "data = load_wine()\n",
    "X = torch.tensor(data.data, dtype=torch.float32)\n",
    "y = torch.tensor(data.target.reshape(-1, 1), dtype=torch.float32)\n",
    "\n",
    "model = nn.Sequential(\n",
    "    nn.Linear(13, 8),\n",
    "    nn.ReLU(),\n",
    "    nn.Dropout(0.5),\n",
    "    nn.BatchNorm1d(8),\n",
    "    nn.Linear(8, 4),\n",
    "    nn.ReLU(),\n",
    "    nn.Linear(4, 1)\n",
    ")\n",
    "\n",
    "optim = torch.optim.SGD(model.parameters(), lr=0.01)\n",
    "\n",
    "for i in range(100):\n",
    "    pred = model(X)\n",
    "    loss = ((y - pred) ** 2).mean()\n",
    "\n",
    "    loss.backward()\n",
    "\n",
    "    optim.step()\n",
    "    optim.zero_grad()\n",
    "\n",
    "    if i % 10 == 0:\n",
    "        print(f\"Iteration {i}, Loss: {loss.data}\")"
   ]
  },
  {
   "cell_type": "code",
   "execution_count": 5,
   "metadata": {},
   "outputs": [
    {
     "data": {
      "text/plain": [
       "(tensor([[1., 1.],\n",
       "         [2., 3.],\n",
       "         [4., 3.],\n",
       "         [5., 5.]]),\n",
       " tensor([[1., 1.],\n",
       "         [2., 3.],\n",
       "         [4., 3.],\n",
       "         [5., 5.]]))"
      ]
     },
     "execution_count": 5,
     "metadata": {},
     "output_type": "execute_result"
    }
   ],
   "source": [
    "X = torch.Tensor([[0.0, 0.0], [0.0, 1.0], [1.0, 0.0], [1.0, 1.0]])\n",
    "b = torch.Tensor([[1.0], [2.0], [3.0], [4.0]])\n",
    "b + X, X + b"
   ]
  },
  {
   "cell_type": "code",
   "execution_count": null,
   "metadata": {},
   "outputs": [],
   "source": []
  }
 ],
 "metadata": {
  "kernelspec": {
   "display_name": "base",
   "language": "python",
   "name": "python3"
  },
  "language_info": {
   "codemirror_mode": {
    "name": "ipython",
    "version": 3
   },
   "file_extension": ".py",
   "mimetype": "text/x-python",
   "name": "python",
   "nbconvert_exporter": "python",
   "pygments_lexer": "ipython3",
   "version": "3.11.5"
  }
 },
 "nbformat": 4,
 "nbformat_minor": 2
}
