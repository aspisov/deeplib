{
 "cells": [
  {
   "cell_type": "code",
   "execution_count": 22,
   "metadata": {},
   "outputs": [
    {
     "name": "stdout",
     "output_type": "stream",
     "text": [
      "Iteration 0, Loss: 22.024662017822266\n",
      "Iteration 10, Loss: 0.6368705034255981\n",
      "Iteration 20, Loss: 0.6204822063446045\n",
      "Iteration 30, Loss: 0.6109766364097595\n",
      "Iteration 40, Loss: 0.6054098010063171\n",
      "Iteration 50, Loss: 0.6021271347999573\n",
      "Iteration 60, Loss: 0.6001815795898438\n",
      "Iteration 70, Loss: 0.5990245938301086\n",
      "Iteration 80, Loss: 0.5983344316482544\n",
      "Iteration 90, Loss: 0.5979219079017639\n"
     ]
    }
   ],
   "source": [
    "import torch\n",
    "import torch.nn as nn\n",
    "from sklearn.datasets import load_wine\n",
    "\n",
    "data = load_wine()\n",
    "X = torch.tensor(data.data, dtype=torch.float32)\n",
    "y = torch.tensor(data.target.reshape(-1, 1), dtype=torch.float32)\n",
    "\n",
    "model = nn.Sequential(\n",
    "    nn.Linear(13, 8),\n",
    "    nn.ReLU(),\n",
    "    nn.Linear(8, 4),\n",
    "    nn.ReLU(),\n",
    "    nn.Linear(4, 1)\n",
    ")\n",
    "\n",
    "optim = torch.optim.SGD(model.parameters(), lr=0.01)\n",
    "\n",
    "for i in range(100):\n",
    "    pred = model(X)\n",
    "    loss = ((y - pred) ** 2).mean()\n",
    "\n",
    "    loss.backward()\n",
    "\n",
    "    optim.step()\n",
    "    optim.zero_grad()\n",
    "\n",
    "    if i % 10 == 0:\n",
    "        print(f\"Iteration {i}, Loss: {loss.data}\")"
   ]
  },
  {
   "cell_type": "code",
   "execution_count": null,
   "metadata": {},
   "outputs": [],
   "source": []
  }
 ],
 "metadata": {
  "kernelspec": {
   "display_name": "base",
   "language": "python",
   "name": "python3"
  },
  "language_info": {
   "codemirror_mode": {
    "name": "ipython",
    "version": 3
   },
   "file_extension": ".py",
   "mimetype": "text/x-python",
   "name": "python",
   "nbconvert_exporter": "python",
   "pygments_lexer": "ipython3",
   "version": "3.11.5"
  }
 },
 "nbformat": 4,
 "nbformat_minor": 2
}
