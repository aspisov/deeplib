{
 "cells": [
  {
   "cell_type": "code",
   "execution_count": 16,
   "metadata": {},
   "outputs": [
    {
     "name": "stdout",
     "output_type": "stream",
     "text": [
      "Iteration 0, Loss: 3199.469482421875\n",
      "Iteration 10, Loss: 0.6213217973709106\n",
      "Iteration 20, Loss: 0.6133385300636292\n",
      "Iteration 30, Loss: 0.6080089807510376\n",
      "Iteration 40, Loss: 0.6044509410858154\n",
      "Iteration 50, Loss: 0.6020755767822266\n",
      "Iteration 60, Loss: 0.6004896759986877\n",
      "Iteration 70, Loss: 0.5994309186935425\n",
      "Iteration 80, Loss: 0.5987241864204407\n",
      "Iteration 90, Loss: 0.5982523560523987\n"
     ]
    }
   ],
   "source": [
    "import torch\n",
    "import torch.nn as nn\n",
    "from sklearn.datasets import load_wine\n",
    "\n",
    "data = load_wine()\n",
    "X = torch.tensor(data.data, dtype=torch.float32)\n",
    "y = torch.tensor(data.target.reshape(-1, 1), dtype=torch.float32)\n",
    "\n",
    "model = nn.Sequential(\n",
    "    nn.Linear(13, 8),\n",
    "    nn.ReLU(),\n",
    "    nn.Linear(8, 4),\n",
    "    nn.ReLU(),\n",
    "    nn.Linear(4, 1)\n",
    ")\n",
    "\n",
    "lr = 0.01\n",
    "for i in range(100):\n",
    "    pred = model(X)\n",
    "    loss = ((y - pred) ** 2).mean()\n",
    "\n",
    "    loss.backward()\n",
    "    \n",
    "    with torch.no_grad():\n",
    "        for param in model.parameters():\n",
    "            param -= lr * param.grad\n",
    "    \n",
    "    model.zero_grad()\n",
    "\n",
    "    if i % 10 == 0:\n",
    "        print(f\"Iteration {i}, Loss: {loss.item()}\")\n"
   ]
  },
  {
   "cell_type": "code",
   "execution_count": 12,
   "metadata": {},
   "outputs": [
    {
     "data": {
      "text/plain": [
       "numpy.int64"
      ]
     },
     "execution_count": 12,
     "metadata": {},
     "output_type": "execute_result"
    }
   ],
   "source": [
    "import numpy as np\n",
    "\n",
    "\n",
    "b = 2 * np.ones_like(np.array(1))\n",
    "type(b)"
   ]
  },
  {
   "cell_type": "code",
   "execution_count": null,
   "metadata": {},
   "outputs": [],
   "source": []
  }
 ],
 "metadata": {
  "kernelspec": {
   "display_name": "base",
   "language": "python",
   "name": "python3"
  },
  "language_info": {
   "codemirror_mode": {
    "name": "ipython",
    "version": 3
   },
   "file_extension": ".py",
   "mimetype": "text/x-python",
   "name": "python",
   "nbconvert_exporter": "python",
   "pygments_lexer": "ipython3",
   "version": "3.11.5"
  }
 },
 "nbformat": 4,
 "nbformat_minor": 2
}
